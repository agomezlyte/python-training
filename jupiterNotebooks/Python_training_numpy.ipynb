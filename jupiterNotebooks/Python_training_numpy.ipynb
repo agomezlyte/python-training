{
  "nbformat": 4,
  "nbformat_minor": 0,
  "metadata": {
    "colab": {
      "name": "Python training - numpy",
      "provenance": [],
      "collapsed_sections": []
    },
    "kernelspec": {
      "name": "python3",
      "display_name": "Python 3"
    }
  },
  "cells": [
    {
      "cell_type": "markdown",
      "metadata": {
        "id": "kiJj5BXm-8nE",
        "colab_type": "text"
      },
      "source": [
        "# Python training - numpy\n",
        "## Library import"
      ]
    },
    {
      "cell_type": "code",
      "metadata": {
        "id": "Im8dKa47_DW5",
        "colab_type": "code",
        "colab": {}
      },
      "source": [
        "import cv2\n",
        "import matplotlib.pyplot as plt\n",
        "import numpy as np"
      ],
      "execution_count": null,
      "outputs": []
    },
    {
      "cell_type": "markdown",
      "metadata": {
        "id": "T1wZU0ct_EiZ",
        "colab_type": "text"
      },
      "source": [
        "## Image import and format processing"
      ]
    },
    {
      "cell_type": "code",
      "metadata": {
        "id": "V5LScsfJYeIb",
        "colab_type": "code",
        "colab": {}
      },
      "source": [
        "image = cv2.imread(\"chroma.jpg\")\n",
        "image = cv2.cvtColor(image, cv2.COLOR_BGR2RGB)\n",
        "\n",
        "landscape = cv2.imread(\"landscape.jpg\")\n",
        "landscape = cv2.cvtColor(landscape, cv2.COLOR_BGR2RGB)\n",
        "width_height = (image.shape[1], image.shape[0])\n",
        "landscape = cv2.resize(landscape, width_height)\n",
        "\n",
        "plt.subplot(121)\n",
        "plt.imshow(image)\n",
        "plt.subplot(122)\n",
        "plt.imshow(landscape)"
      ],
      "execution_count": null,
      "outputs": []
    },
    {
      "cell_type": "markdown",
      "metadata": {
        "id": "YxmvsYMh-7cq",
        "colab_type": "text"
      },
      "source": [
        "## Ndarrays shape"
      ]
    },
    {
      "cell_type": "code",
      "metadata": {
        "id": "La7CoEqnZpgx",
        "colab_type": "code",
        "colab": {}
      },
      "source": [
        "print(image.shape)"
      ],
      "execution_count": null,
      "outputs": []
    },
    {
      "cell_type": "markdown",
      "metadata": {
        "id": "Bv9L-kfh_Z4J",
        "colab_type": "text"
      },
      "source": [
        "## Image channel split"
      ]
    },
    {
      "cell_type": "code",
      "metadata": {
        "id": "-KL6aNA7Z_j-",
        "colab_type": "code",
        "colab": {}
      },
      "source": [
        "# rgb(78, 253, 0)\n",
        "\n",
        "r = image[:, :, 0]\n",
        "g = image[:, :, 1]\n",
        "b = image[:, :, 2]\n",
        "\n",
        "plt.subplot(221)\n",
        "plt.imshow(r, cmap=\"gray\")\n",
        "plt.subplot(222)\n",
        "plt.imshow(g, cmap=\"gray\")\n",
        "plt.subplot(223)\n",
        "plt.imshow(b, cmap=\"gray\")\n",
        "plt.subplot(224)\n",
        "plt.imshow(image)"
      ],
      "execution_count": null,
      "outputs": []
    },
    {
      "cell_type": "markdown",
      "metadata": {
        "id": "Iaq6Zo4a_e4e",
        "colab_type": "text"
      },
      "source": [
        "## Image thresholding"
      ]
    },
    {
      "cell_type": "code",
      "metadata": {
        "id": "aF4afheubLQh",
        "colab_type": "code",
        "colab": {}
      },
      "source": [
        "r_mask = (r < 77) | (r >= 79)\n",
        "g_mask = (g < 250) | (g >= 255)\n",
        "b_mask = b != 0\n",
        "\n",
        "plt.subplot(221)\n",
        "plt.imshow(r_mask, cmap=\"gray\")\n",
        "plt.subplot(222)\n",
        "plt.imshow(g_mask, cmap=\"gray\")\n",
        "plt.subplot(223)\n",
        "plt.imshow(b_mask, cmap=\"gray\")\n",
        "plt.subplot(224)\n",
        "plt.imshow(image)"
      ],
      "execution_count": null,
      "outputs": []
    },
    {
      "cell_type": "markdown",
      "metadata": {
        "id": "X4q9Yq8X_joQ",
        "colab_type": "text"
      },
      "source": [
        "## Image masks creation"
      ]
    },
    {
      "cell_type": "code",
      "metadata": {
        "id": "4o_-D1Pbcmd0",
        "colab_type": "code",
        "colab": {}
      },
      "source": [
        "rgb_mask = r_mask & g_mask & b_mask\n",
        "negative_rgb_mask = np.invert(rgb_mask)\n",
        "\n",
        "plt.subplot(121)\n",
        "plt.imshow(rgb_mask, cmap=\"gray\")\n",
        "plt.subplot(122)\n",
        "plt.imshow(negative_rgb_mask, cmap=\"gray\")"
      ],
      "execution_count": null,
      "outputs": []
    },
    {
      "cell_type": "markdown",
      "metadata": {
        "id": "ZkAfsNWB_sGF",
        "colab_type": "text"
      },
      "source": [
        "## Image masking"
      ]
    },
    {
      "cell_type": "code",
      "metadata": {
        "id": "ct-D7r1cdSNY",
        "colab_type": "code",
        "colab": {}
      },
      "source": [
        "masked_image = image * rgb_mask[:, :, None]\n",
        "\n",
        "masked_landscape = landscape * negative_rgb_mask[:, :, None]\n",
        "\n",
        "plt.subplot(121)\n",
        "plt.imshow(masked_image)\n",
        "plt.subplot(122)\n",
        "plt.imshow(masked_landscape)\n"
      ],
      "execution_count": null,
      "outputs": []
    },
    {
      "cell_type": "markdown",
      "metadata": {
        "id": "2zg0GOo0_xjd",
        "colab_type": "text"
      },
      "source": [
        "## Results"
      ]
    },
    {
      "cell_type": "code",
      "metadata": {
        "id": "wDdEJxN5g-vu",
        "colab_type": "code",
        "colab": {}
      },
      "source": [
        "new_image = masked_image + masked_landscape\n",
        "\n",
        "plt.imshow(new_image)"
      ],
      "execution_count": null,
      "outputs": []
    }
  ]
}