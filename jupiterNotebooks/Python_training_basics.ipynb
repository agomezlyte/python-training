{
  "nbformat": 4,
  "nbformat_minor": 0,
  "metadata": {
    "colab": {
      "name": "Python training - basics.ipynb",
      "provenance": []
    },
    "kernelspec": {
      "name": "python3",
      "display_name": "Python 3"
    }
  },
  "cells": [
    {
      "cell_type": "markdown",
      "metadata": {
        "id": "wQdEtA3H-Byn",
        "colab_type": "text"
      },
      "source": [
        "# Python training - basics\n",
        "## Strings\n"
      ]
    },
    {
      "cell_type": "code",
      "metadata": {
        "id": "I9-cPPM59oDy",
        "colab_type": "code",
        "colab": {
          "base_uri": "https://localhost:8080/",
          "height": 34
        },
        "outputId": "b1753e7d-99d8-4168-98ca-645b9be9f604"
      },
      "source": [
        "hello_world = \"Hello world\"\n",
        "print(hello_world[3])"
      ],
      "execution_count": 1,
      "outputs": [
        {
          "output_type": "stream",
          "text": [
            "l\n"
          ],
          "name": "stdout"
        }
      ]
    },
    {
      "cell_type": "markdown",
      "metadata": {
        "id": "ieiMwpFn-H0K",
        "colab_type": "text"
      },
      "source": [
        "## Lists"
      ]
    },
    {
      "cell_type": "code",
      "metadata": {
        "id": "y7wo5UYs9uq9",
        "colab_type": "code",
        "colab": {
          "base_uri": "https://localhost:8080/",
          "height": 51
        },
        "outputId": "702bffa4-a13d-4620-d196-f2574a053682"
      },
      "source": [
        "numbers = [12, 23, 3, 34, -5]\n",
        "print(numbers[0])\n",
        "\n",
        "numbers = [1, 2, 3, 4, 5]\n",
        "doubled_odds = [n * 2 for n in numbers if n % 2 == 1]\n",
        "print(doubled_odds)"
      ],
      "execution_count": 2,
      "outputs": [
        {
          "output_type": "stream",
          "text": [
            "12\n",
            "[2, 6, 10]\n"
          ],
          "name": "stdout"
        }
      ]
    },
    {
      "cell_type": "markdown",
      "metadata": {
        "id": "vrEU_1wl-KlD",
        "colab_type": "text"
      },
      "source": [
        "## Tuples"
      ]
    },
    {
      "cell_type": "code",
      "metadata": {
        "id": "lwXBSy7n9yO2",
        "colab_type": "code",
        "colab": {
          "base_uri": "https://localhost:8080/",
          "height": 34
        },
        "outputId": "e60cf071-c587-4464-a882-f03029b1ea5d"
      },
      "source": [
        "tup = (5, 2.0, \"Hola\")\n",
        "print(tup[2])"
      ],
      "execution_count": 3,
      "outputs": [
        {
          "output_type": "stream",
          "text": [
            "Hola\n"
          ],
          "name": "stdout"
        }
      ]
    },
    {
      "cell_type": "markdown",
      "metadata": {
        "id": "uSdRGsMf-QE2",
        "colab_type": "text"
      },
      "source": [
        "## Dictionaries"
      ]
    },
    {
      "cell_type": "code",
      "metadata": {
        "id": "yzmX8ugB91FF",
        "colab_type": "code",
        "colab": {
          "base_uri": "https://localhost:8080/",
          "height": 34
        },
        "outputId": "1403510d-11e6-4697-8821-b90e7d6e8d08"
      },
      "source": [
        "tel = {'jack': 4098, 'sape': 4139}\n",
        "tel['guido'] = 4127\n",
        "print(tel['jack'])"
      ],
      "execution_count": 4,
      "outputs": [
        {
          "output_type": "stream",
          "text": [
            "4098\n"
          ],
          "name": "stdout"
        }
      ]
    },
    {
      "cell_type": "markdown",
      "metadata": {
        "id": "NAQvjgtN-Vql",
        "colab_type": "text"
      },
      "source": [
        "## Control structures\n",
        "### if"
      ]
    },
    {
      "cell_type": "code",
      "metadata": {
        "id": "zc86pKjl930d",
        "colab_type": "code",
        "colab": {
          "base_uri": "https://localhost:8080/",
          "height": 34
        },
        "outputId": "167d2c60-5e65-4af0-ee2d-f6ebb2a2a530"
      },
      "source": [
        "x = 3\n",
        "if x < 0:\n",
        "    x = 0\n",
        "    print('Negative changed to zero')\n",
        "elif x == 0:\n",
        "    print('Zero')\n",
        "elif x == 1:\n",
        "    print('Single')\n",
        "else:\n",
        "    print('More')"
      ],
      "execution_count": 5,
      "outputs": [
        {
          "output_type": "stream",
          "text": [
            "More\n"
          ],
          "name": "stdout"
        }
      ]
    },
    {
      "cell_type": "markdown",
      "metadata": {
        "id": "k48QeGJo-bbR",
        "colab_type": "text"
      },
      "source": [
        "### for"
      ]
    },
    {
      "cell_type": "code",
      "metadata": {
        "id": "E603nWjH96Rm",
        "colab_type": "code",
        "colab": {
          "base_uri": "https://localhost:8080/",
          "height": 153
        },
        "outputId": "a6d84373-00f8-4e40-a45a-15bd9f73ffe6"
      },
      "source": [
        "words = ['cat', 'window', 'defenestrate']\n",
        "for w in words:\n",
        "    print(w, len(w))\n",
        "\n",
        "for i in range(0, 10, 2):\n",
        "    print(i)"
      ],
      "execution_count": 6,
      "outputs": [
        {
          "output_type": "stream",
          "text": [
            "cat 3\n",
            "window 6\n",
            "defenestrate 12\n",
            "0\n",
            "2\n",
            "4\n",
            "6\n",
            "8\n"
          ],
          "name": "stdout"
        }
      ]
    },
    {
      "cell_type": "markdown",
      "metadata": {
        "id": "XP1cqtAq-eBb",
        "colab_type": "text"
      },
      "source": [
        "### functions\n"
      ]
    },
    {
      "cell_type": "code",
      "metadata": {
        "id": "GWCLeJh6980D",
        "colab_type": "code",
        "colab": {
          "base_uri": "https://localhost:8080/",
          "height": 51
        },
        "outputId": "786c788d-0ad3-45a6-be10-3769c125a854"
      },
      "source": [
        "def sum_range(first, last):\n",
        "    total = 0\n",
        "    i = first\n",
        "    while i <= last:\n",
        "        total = total + i\n",
        "        i += 1\n",
        "    return total\n",
        "\n",
        "def sum_range_best(first, last):\n",
        "    return sum(range(first, last+1))\n",
        "\n",
        "\n",
        "print(sum_range(0, 10))\n",
        "print(sum_range_best(0, 10))"
      ],
      "execution_count": 7,
      "outputs": [
        {
          "output_type": "stream",
          "text": [
            "55\n",
            "55\n"
          ],
          "name": "stdout"
        }
      ]
    },
    {
      "cell_type": "markdown",
      "metadata": {
        "id": "csuthux5-gil",
        "colab_type": "text"
      },
      "source": [
        "## Classes"
      ]
    },
    {
      "cell_type": "code",
      "metadata": {
        "id": "pz0qDfjt9_40",
        "colab_type": "code",
        "colab": {
          "base_uri": "https://localhost:8080/",
          "height": 34
        },
        "outputId": "2e903bbf-4892-426b-fe98-bf68f94552c0"
      },
      "source": [
        "class Dog:\n",
        "\n",
        "    def __init__(self, name):\n",
        "        self.name = name\n",
        "        self.tricks = []\n",
        "\n",
        "    def add_trick(self, trick):\n",
        "        self.tricks.append(trick)\n",
        "        self.__print_trick(trick)\n",
        "\n",
        "    def get_tricks(self):\n",
        "        return self.tricks\n",
        "\n",
        "    def __print_trick(self, trick):\n",
        "        print(trick)\n",
        "\n",
        "dog = Dog(\"Manolo\")\n",
        "dog.add_trick(\"Jump\")"
      ],
      "execution_count": 8,
      "outputs": [
        {
          "output_type": "stream",
          "text": [
            "Jump\n"
          ],
          "name": "stdout"
        }
      ]
    }
  ]
}